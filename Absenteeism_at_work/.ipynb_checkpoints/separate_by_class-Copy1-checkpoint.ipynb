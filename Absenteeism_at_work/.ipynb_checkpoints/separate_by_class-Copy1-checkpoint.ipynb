{
 "cells": [
  {
   "cell_type": "code",
   "execution_count": 4,
   "metadata": {},
   "outputs": [],
   "source": [
    "import pandas as pd"
   ]
  },
  {
   "cell_type": "code",
   "execution_count": 6,
   "metadata": {},
   "outputs": [
    {
     "data": {
      "text/html": [
       "<div>\n",
       "<style scoped>\n",
       "    .dataframe tbody tr th:only-of-type {\n",
       "        vertical-align: middle;\n",
       "    }\n",
       "\n",
       "    .dataframe tbody tr th {\n",
       "        vertical-align: top;\n",
       "    }\n",
       "\n",
       "    .dataframe thead th {\n",
       "        text-align: right;\n",
       "    }\n",
       "</style>\n",
       "<table border=\"1\" class=\"dataframe\">\n",
       "  <thead>\n",
       "    <tr style=\"text-align: right;\">\n",
       "      <th></th>\n",
       "      <th>ID</th>\n",
       "      <th>Reason for absence</th>\n",
       "      <th>Month of absence</th>\n",
       "      <th>Day of the week</th>\n",
       "      <th>Seasons</th>\n",
       "      <th>Transportation expense</th>\n",
       "      <th>Distance from Residence to Work</th>\n",
       "      <th>Service time</th>\n",
       "      <th>Age</th>\n",
       "      <th>Work load Average</th>\n",
       "      <th>Hit target</th>\n",
       "      <th>Disciplinary failure</th>\n",
       "      <th>Education</th>\n",
       "      <th>Body mass index</th>\n",
       "      <th>Absenteeism time in hours</th>\n",
       "    </tr>\n",
       "  </thead>\n",
       "  <tbody>\n",
       "    <tr>\n",
       "      <th>0</th>\n",
       "      <td>11</td>\n",
       "      <td>26</td>\n",
       "      <td>7</td>\n",
       "      <td>3</td>\n",
       "      <td>1</td>\n",
       "      <td>289</td>\n",
       "      <td>36</td>\n",
       "      <td>13</td>\n",
       "      <td>33</td>\n",
       "      <td>239.0</td>\n",
       "      <td>97</td>\n",
       "      <td>0</td>\n",
       "      <td>1</td>\n",
       "      <td>30</td>\n",
       "      <td>4</td>\n",
       "    </tr>\n",
       "    <tr>\n",
       "      <th>1</th>\n",
       "      <td>36</td>\n",
       "      <td>0</td>\n",
       "      <td>7</td>\n",
       "      <td>3</td>\n",
       "      <td>1</td>\n",
       "      <td>118</td>\n",
       "      <td>13</td>\n",
       "      <td>18</td>\n",
       "      <td>50</td>\n",
       "      <td>239.0</td>\n",
       "      <td>97</td>\n",
       "      <td>1</td>\n",
       "      <td>1</td>\n",
       "      <td>31</td>\n",
       "      <td>0</td>\n",
       "    </tr>\n",
       "    <tr>\n",
       "      <th>2</th>\n",
       "      <td>3</td>\n",
       "      <td>23</td>\n",
       "      <td>7</td>\n",
       "      <td>4</td>\n",
       "      <td>1</td>\n",
       "      <td>179</td>\n",
       "      <td>51</td>\n",
       "      <td>18</td>\n",
       "      <td>38</td>\n",
       "      <td>239.0</td>\n",
       "      <td>97</td>\n",
       "      <td>0</td>\n",
       "      <td>1</td>\n",
       "      <td>31</td>\n",
       "      <td>2</td>\n",
       "    </tr>\n",
       "    <tr>\n",
       "      <th>3</th>\n",
       "      <td>7</td>\n",
       "      <td>7</td>\n",
       "      <td>7</td>\n",
       "      <td>5</td>\n",
       "      <td>1</td>\n",
       "      <td>279</td>\n",
       "      <td>5</td>\n",
       "      <td>14</td>\n",
       "      <td>39</td>\n",
       "      <td>239.0</td>\n",
       "      <td>97</td>\n",
       "      <td>0</td>\n",
       "      <td>1</td>\n",
       "      <td>24</td>\n",
       "      <td>4</td>\n",
       "    </tr>\n",
       "    <tr>\n",
       "      <th>4</th>\n",
       "      <td>11</td>\n",
       "      <td>23</td>\n",
       "      <td>7</td>\n",
       "      <td>5</td>\n",
       "      <td>1</td>\n",
       "      <td>289</td>\n",
       "      <td>36</td>\n",
       "      <td>13</td>\n",
       "      <td>33</td>\n",
       "      <td>239.0</td>\n",
       "      <td>97</td>\n",
       "      <td>0</td>\n",
       "      <td>1</td>\n",
       "      <td>30</td>\n",
       "      <td>2</td>\n",
       "    </tr>\n",
       "  </tbody>\n",
       "</table>\n",
       "</div>"
      ],
      "text/plain": [
       "   ID  Reason for absence  Month of absence  Day of the week  Seasons  \\\n",
       "0  11                  26                 7                3        1   \n",
       "1  36                   0                 7                3        1   \n",
       "2   3                  23                 7                4        1   \n",
       "3   7                   7                 7                5        1   \n",
       "4  11                  23                 7                5        1   \n",
       "\n",
       "   Transportation expense  Distance from Residence to Work  Service time  Age  \\\n",
       "0                     289                               36            13   33   \n",
       "1                     118                               13            18   50   \n",
       "2                     179                               51            18   38   \n",
       "3                     279                                5            14   39   \n",
       "4                     289                               36            13   33   \n",
       "\n",
       "   Work load Average  Hit target  Disciplinary failure  Education  \\\n",
       "0              239.0          97                     0          1   \n",
       "1              239.0          97                     1          1   \n",
       "2              239.0          97                     0          1   \n",
       "3              239.0          97                     0          1   \n",
       "4              239.0          97                     0          1   \n",
       "\n",
       "   Body mass index  Absenteeism time in hours  \n",
       "0               30                          4  \n",
       "1               31                          0  \n",
       "2               31                          2  \n",
       "3               24                          4  \n",
       "4               30                          2  "
      ]
     },
     "execution_count": 6,
     "metadata": {},
     "output_type": "execute_result"
    }
   ],
   "source": [
    "df = pd.read_csv('Absenteeism_at_work6.csv')\n",
    "df.head()"
   ]
  },
  {
   "cell_type": "code",
   "execution_count": 14,
   "metadata": {},
   "outputs": [
    {
     "data": {
      "text/html": [
       "<div>\n",
       "<style scoped>\n",
       "    .dataframe tbody tr th:only-of-type {\n",
       "        vertical-align: middle;\n",
       "    }\n",
       "\n",
       "    .dataframe tbody tr th {\n",
       "        vertical-align: top;\n",
       "    }\n",
       "\n",
       "    .dataframe thead th {\n",
       "        text-align: right;\n",
       "    }\n",
       "</style>\n",
       "<table border=\"1\" class=\"dataframe\">\n",
       "  <thead>\n",
       "    <tr style=\"text-align: right;\">\n",
       "      <th></th>\n",
       "      <th>11</th>\n",
       "      <th>26</th>\n",
       "      <th>7</th>\n",
       "      <th>3</th>\n",
       "      <th>1</th>\n",
       "      <th>289</th>\n",
       "      <th>36</th>\n",
       "      <th>13</th>\n",
       "      <th>33</th>\n",
       "      <th>239.554</th>\n",
       "      <th>97</th>\n",
       "      <th>0</th>\n",
       "      <th>1.1</th>\n",
       "      <th>30</th>\n",
       "      <th>4</th>\n",
       "    </tr>\n",
       "  </thead>\n",
       "  <tbody>\n",
       "    <tr>\n",
       "      <th>0</th>\n",
       "      <td>36</td>\n",
       "      <td>0</td>\n",
       "      <td>7</td>\n",
       "      <td>3</td>\n",
       "      <td>1</td>\n",
       "      <td>118</td>\n",
       "      <td>13</td>\n",
       "      <td>18</td>\n",
       "      <td>50</td>\n",
       "      <td>239.554</td>\n",
       "      <td>97</td>\n",
       "      <td>1</td>\n",
       "      <td>1</td>\n",
       "      <td>31</td>\n",
       "      <td>0</td>\n",
       "    </tr>\n",
       "    <tr>\n",
       "      <th>1</th>\n",
       "      <td>3</td>\n",
       "      <td>23</td>\n",
       "      <td>7</td>\n",
       "      <td>4</td>\n",
       "      <td>1</td>\n",
       "      <td>179</td>\n",
       "      <td>51</td>\n",
       "      <td>18</td>\n",
       "      <td>38</td>\n",
       "      <td>239.554</td>\n",
       "      <td>97</td>\n",
       "      <td>0</td>\n",
       "      <td>1</td>\n",
       "      <td>31</td>\n",
       "      <td>2</td>\n",
       "    </tr>\n",
       "    <tr>\n",
       "      <th>2</th>\n",
       "      <td>7</td>\n",
       "      <td>7</td>\n",
       "      <td>7</td>\n",
       "      <td>5</td>\n",
       "      <td>1</td>\n",
       "      <td>279</td>\n",
       "      <td>5</td>\n",
       "      <td>14</td>\n",
       "      <td>39</td>\n",
       "      <td>239.554</td>\n",
       "      <td>97</td>\n",
       "      <td>0</td>\n",
       "      <td>1</td>\n",
       "      <td>24</td>\n",
       "      <td>4</td>\n",
       "    </tr>\n",
       "    <tr>\n",
       "      <th>3</th>\n",
       "      <td>11</td>\n",
       "      <td>23</td>\n",
       "      <td>7</td>\n",
       "      <td>5</td>\n",
       "      <td>1</td>\n",
       "      <td>289</td>\n",
       "      <td>36</td>\n",
       "      <td>13</td>\n",
       "      <td>33</td>\n",
       "      <td>239.554</td>\n",
       "      <td>97</td>\n",
       "      <td>0</td>\n",
       "      <td>1</td>\n",
       "      <td>30</td>\n",
       "      <td>2</td>\n",
       "    </tr>\n",
       "    <tr>\n",
       "      <th>4</th>\n",
       "      <td>3</td>\n",
       "      <td>23</td>\n",
       "      <td>7</td>\n",
       "      <td>6</td>\n",
       "      <td>1</td>\n",
       "      <td>179</td>\n",
       "      <td>51</td>\n",
       "      <td>18</td>\n",
       "      <td>38</td>\n",
       "      <td>239.554</td>\n",
       "      <td>97</td>\n",
       "      <td>0</td>\n",
       "      <td>1</td>\n",
       "      <td>31</td>\n",
       "      <td>2</td>\n",
       "    </tr>\n",
       "  </tbody>\n",
       "</table>\n",
       "</div>"
      ],
      "text/plain": [
       "   11  26  7  3  1  289  36  13  33  239.554  97  0  1.1  30  4\n",
       "0  36   0  7  3  1  118  13  18  50  239.554  97  1    1  31  0\n",
       "1   3  23  7  4  1  179  51  18  38  239.554  97  0    1  31  2\n",
       "2   7   7  7  5  1  279   5  14  39  239.554  97  0    1  24  4\n",
       "3  11  23  7  5  1  289  36  13  33  239.554  97  0    1  30  2\n",
       "4   3  23  7  6  1  179  51  18  38  239.554  97  0    1  31  2"
      ]
     },
     "execution_count": 14,
     "metadata": {},
     "output_type": "execute_result"
    }
   ],
   "source": [
    "df2 = pd.read_csv('Absenteeism_at_work2.csv')\n",
    "df2.head()"
   ]
  },
  {
   "cell_type": "code",
   "execution_count": 8,
   "metadata": {},
   "outputs": [
    {
     "data": {
      "text/plain": [
       "array([[11., 26.,  7., ...,  1., 30.,  4.],\n",
       "       [36.,  0.,  7., ...,  1., 31.,  0.],\n",
       "       [ 3., 23.,  7., ...,  1., 31.,  2.],\n",
       "       ...,\n",
       "       [ 4.,  0.,  0., ...,  1., 34.,  0.],\n",
       "       [ 8.,  0.,  0., ...,  1., 35.,  0.],\n",
       "       [35.,  0.,  0., ...,  1., 25.,  0.]])"
      ]
     },
     "execution_count": 8,
     "metadata": {},
     "output_type": "execute_result"
    }
   ],
   "source": [
    "array = df.values\n",
    "array"
   ]
  },
  {
   "cell_type": "code",
   "execution_count": 1,
   "metadata": {},
   "outputs": [],
   "source": [
    "# Example of separating data by class value\n",
    "# Split the dataset by class values, returns a dictionary\n",
    "def separate_by_class(dataset):\n",
    "    separated = dict()\n",
    "    for i in range(len(dataset)):\n",
    "        vector = dataset[i]\n",
    "        class_value = vector[-1]\n",
    "        if (class_value not in separated):\n",
    "            separated[class_value] = list()\n",
    "            separated[class_value].append(vector)\n",
    "    return separated"
   ]
  },
  {
   "cell_type": "code",
   "execution_count": 2,
   "metadata": {},
   "outputs": [
    {
     "name": "stdout",
     "output_type": "stream",
     "text": [
      "0\n",
      "[3.393533211, 2.331273381, 0]\n",
      "1\n",
      "[7.423436942, 4.696522875, 1]\n"
     ]
    }
   ],
   "source": [
    "# Test separating data by class\n",
    "dataset = [[3.393533211,2.331273381,0],\n",
    "[3.110073483,1.781539638,0],\n",
    "[1.343808831,3.368360954,0],\n",
    "[3.582294042,4.67917911,0],\n",
    "[2.280362439,2.866990263,0],\n",
    "           [7.423436942,4.696522875,1],\n",
    "[5.745051997,3.533989803,1],\n",
    "[9.172168622,2.511101045,1],\n",
    "[7.792783481,3.424088941,1],\n",
    "[7.939820817,0.791637231,1]]\n",
    "separated = separate_by_class(dataset)\n",
    "for label in separated:\n",
    "    print(label)\n",
    "    for row in separated[label]:\n",
    "        print(row)"
   ]
  },
  {
   "cell_type": "code",
   "execution_count": 10,
   "metadata": {},
   "outputs": [
    {
     "name": "stdout",
     "output_type": "stream",
     "text": [
      "0.0\n",
      "[ 36.   0.   7.   3.   1. 118.  13.  18.  50. 239.  97.   1.   1.  31.\n",
      "   0.]\n",
      "32.0\n",
      "[ 15.  14.   9.   2.   4. 291.  31.  12.  40. 326.  92.   0.   1.  25.\n",
      "  32.]\n",
      "2.0\n",
      "[  3.  23.   7.   4.   1. 179.  51.  18.  38. 239.  97.   0.   1.  31.\n",
      "   2.]\n",
      "3.0\n",
      "[ 34.  23.   9.   2.   1. 118.  10.  10.  37. 326.  92.   0.   1.  28.\n",
      "   3.]\n",
      "4.0\n",
      "[ 11.  26.   7.   3.   1. 289.  36.  13.  33. 239.  97.   0.   1.  30.\n",
      "   4.]\n",
      "5.0\n",
      "[ 15.  23.  10.   5.   4. 291.  31.  12.  40. 253.  93.   0.   1.  25.\n",
      "   5.]\n",
      "1.0\n",
      "[  3.  11.   7.   4.   1. 179.  51.  18.  38. 239.  97.   0.   1.  31.\n",
      "   1.]\n",
      "40.0\n",
      "[ 14.  19.   7.   2.   1. 155.  12.  14.  34. 239.  97.   0.   1.  25.\n",
      "  40.]\n",
      "64.0\n",
      "[ 34.  19.  12.   3.   4. 118.  10.  10.  37. 261.  97.   0.   1.  28.\n",
      "  64.]\n",
      "48.0\n",
      "[ 14.  10.   5.   2.   3. 155.  12.  14.  34. 238.  99.   0.   1.  25.\n",
      "  48.]\n",
      "7.0\n",
      "[ 10.  25.   8.   2.   1. 361.  52.   3.  28. 206.  92.   0.   1.  27.\n",
      "   7.]\n",
      "80.0\n",
      "[ 36.  13.   6.   4.   3. 118.  13.  18.  50. 377.  94.   0.   1.  31.\n",
      "  80.]\n",
      "16.0\n",
      "[ 20.  19.  10.   5.   4. 260.  50.  11.  36. 253.  93.   0.   1.  23.\n",
      "  16.]\n",
      "8.0\n",
      "[ 10.  22.   7.   6.   1. 361.  52.   3.  28. 239.  97.   0.   1.  27.\n",
      "   8.]\n",
      "112.0\n",
      "[ 28.   9.   7.   3.   1. 225.  26.   9.  28. 230.  92.   0.   1.  24.\n",
      " 112.]\n",
      "56.0\n",
      "[ 34.  19.  12.   3.   4. 118.  10.  10.  37. 261.  97.   0.   1.  28.\n",
      "  56.]\n",
      "24.0\n",
      "[ 11.   7.  11.   4.   4. 289.  36.  13.  33. 306.  93.   0.   1.  30.\n",
      "  24.]\n",
      "120.0\n",
      "[ 14.  11.  11.   2.   4. 155.  12.  14.  34. 284.  97.   0.   1.  25.\n",
      " 120.]\n",
      "104.0\n",
      "[ 11.  19.   3.   2.   3. 289.  36.  13.  33. 222.  99.   0.   1.  30.\n",
      " 104.]\n"
     ]
    }
   ],
   "source": [
    "# Test separating data by class\n",
    "dataset2 = array\n",
    "separated2 = separate_by_class(dataset2)\n",
    "for label in separated2:\n",
    "    print(label)\n",
    "    for row in separated2[label]:\n",
    "        print(row)"
   ]
  },
  {
   "cell_type": "code",
   "execution_count": 17,
   "metadata": {},
   "outputs": [
    {
     "data": {
      "text/plain": [
       "[array([ 11.,  19.,   3.,   2.,   3., 289.,  36.,  13.,  33., 222.,  99.,\n",
       "          0.,   1.,  30., 104.])]"
      ]
     },
     "execution_count": 17,
     "metadata": {},
     "output_type": "execute_result"
    }
   ],
   "source": [
    "separated2[104.0]"
   ]
  },
  {
   "cell_type": "code",
   "execution_count": 12,
   "metadata": {},
   "outputs": [
    {
     "data": {
      "text/plain": [
       "{0.0: [array([ 36.,   0.,   7.,   3.,   1., 118.,  13.,  18.,  50., 239.,  97.,\n",
       "           1.,   1.,  31.,   0.])],\n",
       " 1.0: [array([  3.,  11.,   7.,   4.,   1., 179.,  51.,  18.,  38., 239.,  97.,\n",
       "           0.,   1.,  31.,   1.])],\n",
       " 2.0: [array([  3.,  23.,   7.,   4.,   1., 179.,  51.,  18.,  38., 239.,  97.,\n",
       "           0.,   1.,  31.,   2.])],\n",
       " 3.0: [array([ 34.,  23.,   9.,   2.,   1., 118.,  10.,  10.,  37., 326.,  92.,\n",
       "           0.,   1.,  28.,   3.])],\n",
       " 4.0: [array([ 11.,  26.,   7.,   3.,   1., 289.,  36.,  13.,  33., 239.,  97.,\n",
       "           0.,   1.,  30.,   4.])],\n",
       " 5.0: [array([ 15.,  23.,  10.,   5.,   4., 291.,  31.,  12.,  40., 253.,  93.,\n",
       "           0.,   1.,  25.,   5.])],\n",
       " 7.0: [array([ 10.,  25.,   8.,   2.,   1., 361.,  52.,   3.,  28., 206.,  92.,\n",
       "           0.,   1.,  27.,   7.])],\n",
       " 8.0: [array([ 10.,  22.,   7.,   6.,   1., 361.,  52.,   3.,  28., 239.,  97.,\n",
       "           0.,   1.,  27.,   8.])],\n",
       " 16.0: [array([ 20.,  19.,  10.,   5.,   4., 260.,  50.,  11.,  36., 253.,  93.,\n",
       "           0.,   1.,  23.,  16.])],\n",
       " 24.0: [array([ 11.,   7.,  11.,   4.,   4., 289.,  36.,  13.,  33., 306.,  93.,\n",
       "           0.,   1.,  30.,  24.])],\n",
       " 32.0: [array([ 15.,  14.,   9.,   2.,   4., 291.,  31.,  12.,  40., 326.,  92.,\n",
       "           0.,   1.,  25.,  32.])],\n",
       " 40.0: [array([ 14.,  19.,   7.,   2.,   1., 155.,  12.,  14.,  34., 239.,  97.,\n",
       "           0.,   1.,  25.,  40.])],\n",
       " 48.0: [array([ 14.,  10.,   5.,   2.,   3., 155.,  12.,  14.,  34., 238.,  99.,\n",
       "           0.,   1.,  25.,  48.])],\n",
       " 56.0: [array([ 34.,  19.,  12.,   3.,   4., 118.,  10.,  10.,  37., 261.,  97.,\n",
       "           0.,   1.,  28.,  56.])],\n",
       " 64.0: [array([ 34.,  19.,  12.,   3.,   4., 118.,  10.,  10.,  37., 261.,  97.,\n",
       "           0.,   1.,  28.,  64.])],\n",
       " 80.0: [array([ 36.,  13.,   6.,   4.,   3., 118.,  13.,  18.,  50., 377.,  94.,\n",
       "           0.,   1.,  31.,  80.])],\n",
       " 104.0: [array([ 11.,  19.,   3.,   2.,   3., 289.,  36.,  13.,  33., 222.,  99.,\n",
       "           0.,   1.,  30., 104.])],\n",
       " 112.0: [array([ 28.,   9.,   7.,   3.,   1., 225.,  26.,   9.,  28., 230.,  92.,\n",
       "           0.,   1.,  24., 112.])],\n",
       " 120.0: [array([ 14.,  11.,  11.,   2.,   4., 155.,  12.,  14.,  34., 284.,  97.,\n",
       "           0.,   1.,  25., 120.])]}"
      ]
     },
     "execution_count": 12,
     "metadata": {},
     "output_type": "execute_result"
    }
   ],
   "source": [
    "separate_by_class(dataset2)"
   ]
  },
  {
   "cell_type": "code",
   "execution_count": 18,
   "metadata": {},
   "outputs": [
    {
     "name": "stdout",
     "output_type": "stream",
     "text": [
      "0.0\n",
      "[ 36.   0.   7.   3.   1. 118.  13.  18.  50. 239.  97.   1.   1.  31.\n",
      "   0.]\n",
      "32.0\n",
      "[ 15.  14.   9.   2.   4. 291.  31.  12.  40. 326.  92.   0.   1.  25.\n",
      "  32.]\n",
      "2.0\n",
      "[  3.  23.   7.   4.   1. 179.  51.  18.  38. 239.  97.   0.   1.  31.\n",
      "   2.]\n",
      "3.0\n",
      "[ 34.  23.   9.   2.   1. 118.  10.  10.  37. 326.  92.   0.   1.  28.\n",
      "   3.]\n",
      "4.0\n",
      "[ 11.  26.   7.   3.   1. 289.  36.  13.  33. 239.  97.   0.   1.  30.\n",
      "   4.]\n",
      "5.0\n",
      "[ 15.  23.  10.   5.   4. 291.  31.  12.  40. 253.  93.   0.   1.  25.\n",
      "   5.]\n",
      "1.0\n",
      "[  3.  11.   7.   4.   1. 179.  51.  18.  38. 239.  97.   0.   1.  31.\n",
      "   1.]\n",
      "40.0\n",
      "[ 14.  19.   7.   2.   1. 155.  12.  14.  34. 239.  97.   0.   1.  25.\n",
      "  40.]\n",
      "64.0\n",
      "[ 34.  19.  12.   3.   4. 118.  10.  10.  37. 261.  97.   0.   1.  28.\n",
      "  64.]\n",
      "48.0\n",
      "[ 14.  10.   5.   2.   3. 155.  12.  14.  34. 238.  99.   0.   1.  25.\n",
      "  48.]\n",
      "7.0\n",
      "[ 10.  25.   8.   2.   1. 361.  52.   3.  28. 206.  92.   0.   1.  27.\n",
      "   7.]\n",
      "80.0\n",
      "[ 36.  13.   6.   4.   3. 118.  13.  18.  50. 377.  94.   0.   1.  31.\n",
      "  80.]\n",
      "16.0\n",
      "[ 20.  19.  10.   5.   4. 260.  50.  11.  36. 253.  93.   0.   1.  23.\n",
      "  16.]\n",
      "8.0\n",
      "[ 10.  22.   7.   6.   1. 361.  52.   3.  28. 239.  97.   0.   1.  27.\n",
      "   8.]\n",
      "112.0\n",
      "[ 28.   9.   7.   3.   1. 225.  26.   9.  28. 230.  92.   0.   1.  24.\n",
      " 112.]\n",
      "56.0\n",
      "[ 34.  19.  12.   3.   4. 118.  10.  10.  37. 261.  97.   0.   1.  28.\n",
      "  56.]\n",
      "24.0\n",
      "[ 11.   7.  11.   4.   4. 289.  36.  13.  33. 306.  93.   0.   1.  30.\n",
      "  24.]\n",
      "120.0\n",
      "[ 14.  11.  11.   2.   4. 155.  12.  14.  34. 284.  97.   0.   1.  25.\n",
      " 120.]\n",
      "104.0\n",
      "[ 11.  19.   3.   2.   3. 289.  36.  13.  33. 222.  99.   0.   1.  30.\n",
      " 104.]\n"
     ]
    }
   ],
   "source": [
    "# Test separating data by class\n",
    "dataset3 = df2.values\n",
    "separated3 = separate_by_class(dataset3)\n",
    "for label3 in separated3:\n",
    "    print(label3)\n",
    "    for row3 in separated2[label3]:\n",
    "        print(row3)"
   ]
  },
  {
   "cell_type": "markdown",
   "metadata": {},
   "source": [
    "# Summarizing a dataset\n"
   ]
  },
  {
   "cell_type": "code",
   "execution_count": 40,
   "metadata": {},
   "outputs": [],
   "source": [
    "# Example of summarizing a dataset\n",
    "from math import sqrt\n",
    "# Calculate the mean of a list of numbers\n",
    "def mean(numbers):\n",
    "    return sum(numbers)/float(len(numbers))\n",
    "\n",
    "# Calculate the standard deviation of a list of numbers\n",
    "def stdev(numbers):\n",
    "    avg = mean(numbers)\n",
    "    variance = sum([(x-avg)**2 for x in numbers]) / float(len(numbers)-1)\n",
    "    return sqrt(variance)\n",
    "\n",
    "# Calculate the mean, stdev and count for each column in a dataset\n",
    "def summarize_dataset(dataset):\n",
    "    summaries = [(mean(column), stdev(column), len(column)) for column in zip(*dataset)]\n",
    "\n",
    "    del(summaries[-1])\n",
    "    \n",
    "    return summaries"
   ]
  },
  {
   "cell_type": "code",
   "execution_count": 41,
   "metadata": {},
   "outputs": [
    {
     "name": "stdout",
     "output_type": "stream",
     "text": [
      "[(5.178333386499999, 2.7665845055177263, 10), (2.9984683241, 1.218556343617447, 10)]\n"
     ]
    }
   ],
   "source": [
    "# Test summarizing a dataset\n",
    "dataset = [[3.393533211,2.331273381,0],\n",
    "[3.110073483,1.781539638,0],\n",
    "[1.343808831,3.368360954,0],\n",
    "[3.582294042,4.67917911,0],\n",
    "[2.280362439,2.866990263,0],\n",
    "[7.423436942,4.696522875,1],\n",
    "[5.745051997,3.533989803,1],\n",
    "[9.172168622,2.511101045,1],\n",
    "[7.792783481,3.424088941,1],\n",
    "[7.939820817,0.791637231,1]]\n",
    "summary = summarize_dataset(dataset)\n",
    "print(summary)"
   ]
  },
  {
   "cell_type": "code",
   "execution_count": 42,
   "metadata": {},
   "outputs": [
    {
     "data": {
      "text/plain": [
       "array([[ 11.,  26.,   7.,   3.,   1., 289.,  36.,  13.,  33., 239.,  97.,\n",
       "          0.,   1.,  30.,   4.],\n",
       "       [ 36.,   0.,   7.,   3.,   1., 118.,  13.,  18.,  50., 239.,  97.,\n",
       "          1.,   1.,  31.,   0.],\n",
       "       [  3.,  23.,   7.,   4.,   1., 179.,  51.,  18.,  38., 239.,  97.,\n",
       "          0.,   1.,  31.,   2.],\n",
       "       [  7.,   7.,   7.,   5.,   1., 279.,   5.,  14.,  39., 239.,  97.,\n",
       "          0.,   1.,  24.,   4.],\n",
       "       [ 11.,  23.,   7.,   5.,   1., 289.,  36.,  13.,  33., 239.,  97.,\n",
       "          0.,   1.,  30.,   2.],\n",
       "       [  3.,  23.,   7.,   6.,   1., 179.,  51.,  18.,  38., 239.,  97.,\n",
       "          0.,   1.,  31.,   2.],\n",
       "       [ 10.,  22.,   7.,   6.,   1., 361.,  52.,   3.,  28., 239.,  97.,\n",
       "          0.,   1.,  27.,   8.],\n",
       "       [ 20.,  23.,   7.,   6.,   1., 260.,  50.,  11.,  36., 239.,  97.,\n",
       "          0.,   1.,  23.,   4.],\n",
       "       [ 14.,  19.,   7.,   2.,   1., 155.,  12.,  14.,  34., 239.,  97.,\n",
       "          0.,   1.,  25.,  40.],\n",
       "       [  1.,  22.,   7.,   2.,   1., 235.,  11.,  14.,  37., 239.,  97.,\n",
       "          0.,   3.,  29.,   8.]])"
      ]
     },
     "execution_count": 42,
     "metadata": {},
     "output_type": "execute_result"
    }
   ],
   "source": [
    "array[:10]"
   ]
  },
  {
   "cell_type": "code",
   "execution_count": 43,
   "metadata": {},
   "outputs": [
    {
     "name": "stdout",
     "output_type": "stream",
     "text": [
      "[(18.017567567567568, 11.021247263063664, 740), (19.216216216216218, 8.433405882799663, 740), (6.324324324324325, 3.4362869319125844, 740), (3.9148648648648647, 1.4216747097562772, 740), (2.5445945945945945, 1.1118310601573855, 740), (221.32972972972973, 66.95222324531964, 740), (29.63108108108108, 14.836788436739168, 740), (12.554054054054054, 4.384873407621146, 740), (36.45, 6.478772457611881, 740), (nan, nan, 740), (94.58783783783784, 3.7793131344180004, 740), (0.05405405405405406, 0.22627727323214972, 740), (1.2918918918918918, 0.6732380415251568, 740), (26.677027027027027, 4.285452223167277, 740)]\n"
     ]
    }
   ],
   "source": [
    "# Test summarizing a dataset\n",
    "dataset2 = array\n",
    "summary2 = summarize_dataset(dataset2)\n",
    "print(summary2)"
   ]
  },
  {
   "cell_type": "code",
   "execution_count": 31,
   "metadata": {},
   "outputs": [
    {
     "data": {
      "text/plain": [
       "0      239.0\n",
       "1      239.0\n",
       "2      239.0\n",
       "3      239.0\n",
       "4      239.0\n",
       "5      239.0\n",
       "6      239.0\n",
       "7      239.0\n",
       "8      239.0\n",
       "9      239.0\n",
       "10     239.0\n",
       "11     239.0\n",
       "12     239.0\n",
       "13     239.0\n",
       "14     239.0\n",
       "15     239.0\n",
       "16     239.0\n",
       "17     239.0\n",
       "18     239.0\n",
       "19     206.0\n",
       "20     206.0\n",
       "21     206.0\n",
       "22     206.0\n",
       "23     206.0\n",
       "24     206.0\n",
       "25     206.0\n",
       "26     206.0\n",
       "27     206.0\n",
       "28     206.0\n",
       "29     206.0\n",
       "       ...  \n",
       "710    275.0\n",
       "711    275.0\n",
       "712    275.0\n",
       "713    275.0\n",
       "714    275.0\n",
       "715    275.0\n",
       "716    275.0\n",
       "717    275.0\n",
       "718    275.0\n",
       "719    275.0\n",
       "720    275.0\n",
       "721    275.0\n",
       "722    275.0\n",
       "723    275.0\n",
       "724    275.0\n",
       "725    265.0\n",
       "726    265.0\n",
       "727    265.0\n",
       "728    265.0\n",
       "729    265.0\n",
       "730    265.0\n",
       "731    265.0\n",
       "732    265.0\n",
       "733    265.0\n",
       "734    265.0\n",
       "735    265.0\n",
       "736    265.0\n",
       "737    271.0\n",
       "738    271.0\n",
       "739    271.0\n",
       "Name: Work load Average, Length: 740, dtype: float64"
      ]
     },
     "execution_count": 31,
     "metadata": {},
     "output_type": "execute_result"
    }
   ],
   "source": [
    "df['Work load Average']"
   ]
  },
  {
   "cell_type": "code",
   "execution_count": 25,
   "metadata": {},
   "outputs": [
    {
     "data": {
      "text/plain": [
       "276.4959349593496"
      ]
     },
     "execution_count": 25,
     "metadata": {},
     "output_type": "execute_result"
    }
   ],
   "source": [
    "df['Work load Average'].mean()"
   ]
  },
  {
   "cell_type": "code",
   "execution_count": 29,
   "metadata": {},
   "outputs": [
    {
     "data": {
      "text/plain": [
       "nan"
      ]
     },
     "execution_count": 29,
     "metadata": {},
     "output_type": "execute_result"
    }
   ],
   "source": [
    "sum(df['Work load Average'])"
   ]
  },
  {
   "cell_type": "code",
   "execution_count": 32,
   "metadata": {},
   "outputs": [
    {
     "data": {
      "text/plain": [
       "204054.0"
      ]
     },
     "execution_count": 32,
     "metadata": {},
     "output_type": "execute_result"
    }
   ],
   "source": [
    "df['Work load Average'].sum()"
   ]
  },
  {
   "cell_type": "code",
   "execution_count": 30,
   "metadata": {},
   "outputs": [
    {
     "data": {
      "text/plain": [
       "26973"
      ]
     },
     "execution_count": 30,
     "metadata": {},
     "output_type": "execute_result"
    }
   ],
   "source": [
    "sum(df['Age'])"
   ]
  },
  {
   "cell_type": "code",
   "execution_count": 28,
   "metadata": {},
   "outputs": [
    {
     "data": {
      "text/plain": [
       "740.0"
      ]
     },
     "execution_count": 28,
     "metadata": {},
     "output_type": "execute_result"
    }
   ],
   "source": [
    "float(len(df['Work load Average']))"
   ]
  },
  {
   "cell_type": "code",
   "execution_count": 27,
   "metadata": {},
   "outputs": [
    {
     "data": {
      "text/plain": [
       "nan"
      ]
     },
     "execution_count": 27,
     "metadata": {},
     "output_type": "execute_result"
    }
   ],
   "source": [
    "sum(df['Work load Average'])/float(len(df['Work load Average']))"
   ]
  },
  {
   "cell_type": "code",
   "execution_count": 46,
   "metadata": {},
   "outputs": [],
   "source": [
    "# Example of summarizing a dataset\n",
    "from math import sqrt\n",
    "# Calculate the mean of a list of numbers\n",
    "def mean(numbers):\n",
    "    return mean(numbers)\n",
    "\n",
    "# Calculate the standard deviation of a list of numbers\n",
    "def stdev(numbers):\n",
    "    avg = mean(numbers)\n",
    "    variance = sum([(x-avg)**2 for x in numbers]) / float(len(numbers)-1)\n",
    "    return sqrt(variance)\n",
    "\n",
    "# Calculate the mean, stdev and count for each column in a dataset\n",
    "def summarize_dataset(dataset):\n",
    "    summaries = [(mean(column), stdev(column), len(column)) for column in zip(*dataset)]\n",
    "\n",
    "    del(summaries[-1])\n",
    "    \n",
    "    return summaries"
   ]
  },
  {
   "cell_type": "code",
   "execution_count": 47,
   "metadata": {},
   "outputs": [
    {
     "ename": "RecursionError",
     "evalue": "maximum recursion depth exceeded",
     "output_type": "error",
     "traceback": [
      "\u001b[0;31m---------------------------------------------------------------------------\u001b[0m",
      "\u001b[0;31mRecursionError\u001b[0m                            Traceback (most recent call last)",
      "\u001b[0;32m<ipython-input-47-d142387bc178>\u001b[0m in \u001b[0;36m<module>\u001b[0;34m()\u001b[0m\n\u001b[1;32m     10\u001b[0m \u001b[0;34m[\u001b[0m\u001b[0;36m7.792783481\u001b[0m\u001b[0;34m,\u001b[0m\u001b[0;36m3.424088941\u001b[0m\u001b[0;34m,\u001b[0m\u001b[0;36m1\u001b[0m\u001b[0;34m]\u001b[0m\u001b[0;34m,\u001b[0m\u001b[0;34m\u001b[0m\u001b[0m\n\u001b[1;32m     11\u001b[0m [7.939820817,0.791637231,1]]\n\u001b[0;32m---> 12\u001b[0;31m \u001b[0msummary3\u001b[0m \u001b[0;34m=\u001b[0m \u001b[0msummarize_dataset\u001b[0m\u001b[0;34m(\u001b[0m\u001b[0mdataset3\u001b[0m\u001b[0;34m)\u001b[0m\u001b[0;34m\u001b[0m\u001b[0m\n\u001b[0m\u001b[1;32m     13\u001b[0m \u001b[0mprint\u001b[0m\u001b[0;34m(\u001b[0m\u001b[0msummary3\u001b[0m\u001b[0;34m)\u001b[0m\u001b[0;34m\u001b[0m\u001b[0m\n",
      "\u001b[0;32m<ipython-input-46-1d885e293974>\u001b[0m in \u001b[0;36msummarize_dataset\u001b[0;34m(dataset)\u001b[0m\n\u001b[1;32m     13\u001b[0m \u001b[0;31m# Calculate the mean, stdev and count for each column in a dataset\u001b[0m\u001b[0;34m\u001b[0m\u001b[0;34m\u001b[0m\u001b[0m\n\u001b[1;32m     14\u001b[0m \u001b[0;32mdef\u001b[0m \u001b[0msummarize_dataset\u001b[0m\u001b[0;34m(\u001b[0m\u001b[0mdataset\u001b[0m\u001b[0;34m)\u001b[0m\u001b[0;34m:\u001b[0m\u001b[0;34m\u001b[0m\u001b[0m\n\u001b[0;32m---> 15\u001b[0;31m     \u001b[0msummaries\u001b[0m \u001b[0;34m=\u001b[0m \u001b[0;34m[\u001b[0m\u001b[0;34m(\u001b[0m\u001b[0mmean\u001b[0m\u001b[0;34m(\u001b[0m\u001b[0mcolumn\u001b[0m\u001b[0;34m)\u001b[0m\u001b[0;34m,\u001b[0m \u001b[0mstdev\u001b[0m\u001b[0;34m(\u001b[0m\u001b[0mcolumn\u001b[0m\u001b[0;34m)\u001b[0m\u001b[0;34m,\u001b[0m \u001b[0mlen\u001b[0m\u001b[0;34m(\u001b[0m\u001b[0mcolumn\u001b[0m\u001b[0;34m)\u001b[0m\u001b[0;34m)\u001b[0m \u001b[0;32mfor\u001b[0m \u001b[0mcolumn\u001b[0m \u001b[0;32min\u001b[0m \u001b[0mzip\u001b[0m\u001b[0;34m(\u001b[0m\u001b[0;34m*\u001b[0m\u001b[0mdataset\u001b[0m\u001b[0;34m)\u001b[0m\u001b[0;34m]\u001b[0m\u001b[0;34m\u001b[0m\u001b[0m\n\u001b[0m\u001b[1;32m     16\u001b[0m \u001b[0;34m\u001b[0m\u001b[0m\n\u001b[1;32m     17\u001b[0m     \u001b[0;32mdel\u001b[0m\u001b[0;34m(\u001b[0m\u001b[0msummaries\u001b[0m\u001b[0;34m[\u001b[0m\u001b[0;34m-\u001b[0m\u001b[0;36m1\u001b[0m\u001b[0;34m]\u001b[0m\u001b[0;34m)\u001b[0m\u001b[0;34m\u001b[0m\u001b[0m\n",
      "\u001b[0;32m<ipython-input-46-1d885e293974>\u001b[0m in \u001b[0;36m<listcomp>\u001b[0;34m(.0)\u001b[0m\n\u001b[1;32m     13\u001b[0m \u001b[0;31m# Calculate the mean, stdev and count for each column in a dataset\u001b[0m\u001b[0;34m\u001b[0m\u001b[0;34m\u001b[0m\u001b[0m\n\u001b[1;32m     14\u001b[0m \u001b[0;32mdef\u001b[0m \u001b[0msummarize_dataset\u001b[0m\u001b[0;34m(\u001b[0m\u001b[0mdataset\u001b[0m\u001b[0;34m)\u001b[0m\u001b[0;34m:\u001b[0m\u001b[0;34m\u001b[0m\u001b[0m\n\u001b[0;32m---> 15\u001b[0;31m     \u001b[0msummaries\u001b[0m \u001b[0;34m=\u001b[0m \u001b[0;34m[\u001b[0m\u001b[0;34m(\u001b[0m\u001b[0mmean\u001b[0m\u001b[0;34m(\u001b[0m\u001b[0mcolumn\u001b[0m\u001b[0;34m)\u001b[0m\u001b[0;34m,\u001b[0m \u001b[0mstdev\u001b[0m\u001b[0;34m(\u001b[0m\u001b[0mcolumn\u001b[0m\u001b[0;34m)\u001b[0m\u001b[0;34m,\u001b[0m \u001b[0mlen\u001b[0m\u001b[0;34m(\u001b[0m\u001b[0mcolumn\u001b[0m\u001b[0;34m)\u001b[0m\u001b[0;34m)\u001b[0m \u001b[0;32mfor\u001b[0m \u001b[0mcolumn\u001b[0m \u001b[0;32min\u001b[0m \u001b[0mzip\u001b[0m\u001b[0;34m(\u001b[0m\u001b[0;34m*\u001b[0m\u001b[0mdataset\u001b[0m\u001b[0;34m)\u001b[0m\u001b[0;34m]\u001b[0m\u001b[0;34m\u001b[0m\u001b[0m\n\u001b[0m\u001b[1;32m     16\u001b[0m \u001b[0;34m\u001b[0m\u001b[0m\n\u001b[1;32m     17\u001b[0m     \u001b[0;32mdel\u001b[0m\u001b[0;34m(\u001b[0m\u001b[0msummaries\u001b[0m\u001b[0;34m[\u001b[0m\u001b[0;34m-\u001b[0m\u001b[0;36m1\u001b[0m\u001b[0;34m]\u001b[0m\u001b[0;34m)\u001b[0m\u001b[0;34m\u001b[0m\u001b[0m\n",
      "\u001b[0;32m<ipython-input-46-1d885e293974>\u001b[0m in \u001b[0;36mmean\u001b[0;34m(numbers)\u001b[0m\n\u001b[1;32m      3\u001b[0m \u001b[0;31m# Calculate the mean of a list of numbers\u001b[0m\u001b[0;34m\u001b[0m\u001b[0;34m\u001b[0m\u001b[0m\n\u001b[1;32m      4\u001b[0m \u001b[0;32mdef\u001b[0m \u001b[0mmean\u001b[0m\u001b[0;34m(\u001b[0m\u001b[0mnumbers\u001b[0m\u001b[0;34m)\u001b[0m\u001b[0;34m:\u001b[0m\u001b[0;34m\u001b[0m\u001b[0m\n\u001b[0;32m----> 5\u001b[0;31m     \u001b[0;32mreturn\u001b[0m \u001b[0mmean\u001b[0m\u001b[0;34m(\u001b[0m\u001b[0mnumbers\u001b[0m\u001b[0;34m)\u001b[0m\u001b[0;34m\u001b[0m\u001b[0m\n\u001b[0m\u001b[1;32m      6\u001b[0m \u001b[0;34m\u001b[0m\u001b[0m\n\u001b[1;32m      7\u001b[0m \u001b[0;31m# Calculate the standard deviation of a list of numbers\u001b[0m\u001b[0;34m\u001b[0m\u001b[0;34m\u001b[0m\u001b[0m\n",
      "... last 1 frames repeated, from the frame below ...\n",
      "\u001b[0;32m<ipython-input-46-1d885e293974>\u001b[0m in \u001b[0;36mmean\u001b[0;34m(numbers)\u001b[0m\n\u001b[1;32m      3\u001b[0m \u001b[0;31m# Calculate the mean of a list of numbers\u001b[0m\u001b[0;34m\u001b[0m\u001b[0;34m\u001b[0m\u001b[0m\n\u001b[1;32m      4\u001b[0m \u001b[0;32mdef\u001b[0m \u001b[0mmean\u001b[0m\u001b[0;34m(\u001b[0m\u001b[0mnumbers\u001b[0m\u001b[0;34m)\u001b[0m\u001b[0;34m:\u001b[0m\u001b[0;34m\u001b[0m\u001b[0m\n\u001b[0;32m----> 5\u001b[0;31m     \u001b[0;32mreturn\u001b[0m \u001b[0mmean\u001b[0m\u001b[0;34m(\u001b[0m\u001b[0mnumbers\u001b[0m\u001b[0;34m)\u001b[0m\u001b[0;34m\u001b[0m\u001b[0m\n\u001b[0m\u001b[1;32m      6\u001b[0m \u001b[0;34m\u001b[0m\u001b[0m\n\u001b[1;32m      7\u001b[0m \u001b[0;31m# Calculate the standard deviation of a list of numbers\u001b[0m\u001b[0;34m\u001b[0m\u001b[0;34m\u001b[0m\u001b[0m\n",
      "\u001b[0;31mRecursionError\u001b[0m: maximum recursion depth exceeded"
     ]
    }
   ],
   "source": [
    "# Test summarizing a dataset\n",
    "dataset3 = [[3.393533211,2.331273381,0],\n",
    "[3.110073483,1.781539638,0],\n",
    "[1.343808831,3.368360954,0],\n",
    "[3.582294042,4.67917911,0],\n",
    "[2.280362439,2.866990263,0],\n",
    "[7.423436942,4.696522875,1],\n",
    "[5.745051997,3.533989803,1],\n",
    "[9.172168622,2.511101045,1],\n",
    "[7.792783481,3.424088941,1],\n",
    "[7.939820817,0.791637231,1]]\n",
    "summary3 = summarize_dataset(dataset3)\n",
    "print(summary3)"
   ]
  },
  {
   "cell_type": "code",
   "execution_count": null,
   "metadata": {},
   "outputs": [],
   "source": []
  }
 ],
 "metadata": {
  "kernelspec": {
   "display_name": "Python 3",
   "language": "python",
   "name": "python3"
  },
  "language_info": {
   "codemirror_mode": {
    "name": "ipython",
    "version": 3
   },
   "file_extension": ".py",
   "mimetype": "text/x-python",
   "name": "python",
   "nbconvert_exporter": "python",
   "pygments_lexer": "ipython3",
   "version": "3.5.2"
  }
 },
 "nbformat": 4,
 "nbformat_minor": 2
}
